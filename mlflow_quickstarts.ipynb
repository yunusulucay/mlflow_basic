{
 "cells": [
  {
   "cell_type": "markdown",
   "id": "southwest-possibility",
   "metadata": {},
   "source": [
    "Using the Tracking API "
   ]
  },
  {
   "cell_type": "code",
   "execution_count": 1,
   "id": "superb-checklist",
   "metadata": {},
   "outputs": [],
   "source": [
    "import os \n",
    "from random import random, randint\n",
    "from mlflow import log_metric, log_param, log_artifacts"
   ]
  },
  {
   "cell_type": "code",
   "execution_count": 15,
   "id": "impressed-fraud",
   "metadata": {},
   "outputs": [
    {
     "name": "stdout",
     "output_type": "stream",
     "text": [
      "Cloning into 'mlflow'...\n",
      "remote: Enumerating objects: 45579, done.\u001b[K\n",
      "remote: Counting objects: 100% (1560/1560), done.\u001b[K\n",
      "remote: Compressing objects: 100% (831/831), done.\u001b[K\n",
      "remote: Total 45579 (delta 797), reused 1272 (delta 695), pack-reused 44019\u001b[K\n",
      "Receiving objects: 100% (45579/45579), 44.84 MiB | 186.00 KiB/s, done.\n",
      "Resolving deltas: 100% (34818/34818), done.\n"
     ]
    }
   ],
   "source": [
    "# Clone mlflow\n",
    "# !git clone https://github.com/mlflow/mlflow"
   ]
  },
  {
   "cell_type": "code",
   "execution_count": 11,
   "id": "right-barcelona",
   "metadata": {},
   "outputs": [],
   "source": [
    "log_param(\"param3\",randint(0,100))\n",
    "\n",
    "log_metric(\"foo\", random())\n",
    "log_metric(\"foo\", random() + 1)\n",
    "log_metric(\"foo\", random() + 2)\n",
    "\n",
    "if not os.path.exists(\"outputs\"):\n",
    "    os.makedirs(\"outputs\")\n",
    "with open(\"outputs/test.txt\", \"w\") as f:\n",
    "    f.write(\"hello world!\")\n",
    "log_artifacts(\"outputs\")\n"
   ]
  },
  {
   "cell_type": "markdown",
   "id": "sustainable-traffic",
   "metadata": {},
   "source": [
    "Viewing the Tracking UI"
   ]
  },
  {
   "cell_type": "code",
   "execution_count": 7,
   "id": "average-bicycle",
   "metadata": {},
   "outputs": [
    {
     "name": "stdout",
     "output_type": "stream",
     "text": [
      "[2021-12-02 12:18:30 +0300] [24302] [INFO] Starting gunicorn 19.10.0\r\n",
      "[2021-12-02 12:18:30 +0300] [24302] [INFO] Listening at: http://127.0.0.1:5000 (24302)\r\n",
      "[2021-12-02 12:18:30 +0300] [24302] [INFO] Using worker: sync\r\n",
      "[2021-12-02 12:18:30 +0300] [24305] [INFO] Booting worker with pid: 24305\r\n"
     ]
    }
   ],
   "source": [
    "!mlflow ui"
   ]
  },
  {
   "cell_type": "markdown",
   "id": "fabulous-clarity",
   "metadata": {},
   "source": [
    "Running MLflow Projects"
   ]
  },
  {
   "cell_type": "code",
   "execution_count": 17,
   "id": "homeless-remedy",
   "metadata": {
    "scrolled": true
   },
   "outputs": [
    {
     "name": "stdout",
     "output_type": "stream",
     "text": [
      "2021/12/02 12:30:22 INFO mlflow.utils.conda: === Creating conda environment mlflow-7122f0cb71f385d249fbb61cc599afd8045ab238 ===\n",
      "Collecting package metadata (repodata.json): done\n",
      "Solving environment: done\n",
      "\n",
      "\n",
      "==> WARNING: A newer version of conda exists. <==\n",
      "  current version: 4.10.1\n",
      "  latest version: 4.10.3\n",
      "\n",
      "Please update conda by running\n",
      "\n",
      "    $ conda update -n base -c defaults conda\n",
      "\n",
      "\n",
      "\n",
      "Downloading and Extracting Packages\n",
      "libgomp-11.2.0       | 427 KB    | ##################################### | 100% \n",
      "ld_impl_linux-64-2.3 | 667 KB    | ##################################### | 100% \n",
      "sqlite-3.37.0        | 1.5 MB    | ##################################### | 100% \n",
      "wheel-0.37.0         | 31 KB     | ##################################### | 100% \n",
      "readline-8.1         | 295 KB    | ##################################### | 100% \n",
      "setuptools-59.4.0    | 1016 KB   | ##################################### | 100% \n",
      "libstdcxx-ng-11.2.0  | 4.2 MB    | ##################################### | 100% \n",
      "libnsl-2.0.0         | 31 KB     | ##################################### | 100% \n",
      "python-3.7.12        | 57.3 MB   | ##################################### | 100% \n",
      "openssl-3.0.0        | 2.9 MB    | ##################################### | 100% \n",
      "python_abi-3.7       | 4 KB      | ##################################### | 100% \n",
      "libffi-3.4.2         | 57 KB     | ##################################### | 100% \n",
      "ca-certificates-2021 | 139 KB    | ##################################### | 100% \n",
      "pip-21.3.1           | 1.2 MB    | ##################################### | 100% \n",
      "libzlib-1.2.11       | 59 KB     | ##################################### | 100% \n",
      "zlib-1.2.11          | 86 KB     | ##################################### | 100% \n",
      "tk-8.6.11            | 3.3 MB    | ##################################### | 100% \n",
      "libgcc-ng-11.2.0     | 887 KB    | ##################################### | 100% \n",
      "Preparing transaction: done\n",
      "Verifying transaction: done\n",
      "Executing transaction: done\n",
      "Installing pip dependencies: / Ran pip subprocess with arguments:\n",
      "['/home/omer/anaconda3/envs/mlflow-7122f0cb71f385d249fbb61cc599afd8045ab238/bin/python', '-m', 'pip', 'install', '-U', '-r', '/home/omer/Desktop/yunus_works/mlflow/mlflow/examples/sklearn_elasticnet_wine/condaenv.tznkmr9h.requirements.txt']\n",
      "Pip subprocess output:\n",
      "Collecting scikit-learn==0.23.2\n",
      "  Downloading scikit_learn-0.23.2-cp37-cp37m-manylinux1_x86_64.whl (6.8 MB)\n",
      "Collecting mlflow>=1.0\n",
      "  Downloading mlflow-1.22.0-py3-none-any.whl (15.5 MB)\n",
      "Collecting pandas\n",
      "  Downloading pandas-1.3.4-cp37-cp37m-manylinux_2_17_x86_64.manylinux2014_x86_64.whl (11.3 MB)\n",
      "Collecting scipy>=0.19.1\n",
      "  Downloading scipy-1.7.3-cp37-cp37m-manylinux_2_12_x86_64.manylinux2010_x86_64.whl (38.1 MB)\n",
      "Collecting threadpoolctl>=2.0.0\n",
      "  Downloading threadpoolctl-3.0.0-py3-none-any.whl (14 kB)\n",
      "Collecting numpy>=1.13.3\n",
      "  Downloading numpy-1.21.4-cp37-cp37m-manylinux_2_12_x86_64.manylinux2010_x86_64.whl (15.7 MB)\n",
      "Collecting joblib>=0.11\n",
      "  Downloading joblib-1.1.0-py2.py3-none-any.whl (306 kB)\n",
      "Collecting click>=7.0\n",
      "  Downloading click-8.0.3-py3-none-any.whl (97 kB)\n",
      "Collecting Flask\n",
      "  Downloading Flask-2.0.2-py3-none-any.whl (95 kB)\n",
      "Collecting cloudpickle\n",
      "  Downloading cloudpickle-2.0.0-py3-none-any.whl (25 kB)\n",
      "Collecting alembic<=1.4.1\n",
      "  Using cached alembic-1.4.1-py2.py3-none-any.whl\n",
      "Collecting sqlalchemy\n",
      "  Downloading SQLAlchemy-1.4.27-cp37-cp37m-manylinux_2_5_x86_64.manylinux1_x86_64.manylinux_2_17_x86_64.manylinux2014_x86_64.whl (1.6 MB)\n",
      "Collecting pytz\n",
      "  Downloading pytz-2021.3-py2.py3-none-any.whl (503 kB)\n",
      "Collecting databricks-cli>=0.8.7\n",
      "  Downloading databricks-cli-0.16.2.tar.gz (58 kB)\n",
      "  Preparing metadata (setup.py): started\n",
      "  Preparing metadata (setup.py): finished with status 'done'\n",
      "Collecting importlib-metadata!=4.7.0,>=3.7.0\n",
      "  Downloading importlib_metadata-4.8.2-py3-none-any.whl (17 kB)\n",
      "Collecting querystring-parser\n",
      "  Using cached querystring_parser-1.2.4-py2.py3-none-any.whl (7.9 kB)\n",
      "Collecting prometheus-flask-exporter\n",
      "  Downloading prometheus_flask_exporter-0.18.6-py3-none-any.whl (17 kB)\n",
      "Collecting docker>=4.0.0\n",
      "  Downloading docker-5.0.3-py2.py3-none-any.whl (146 kB)\n",
      "Collecting sqlparse>=0.3.1\n",
      "  Downloading sqlparse-0.4.2-py3-none-any.whl (42 kB)\n",
      "Collecting pyyaml>=5.1\n",
      "  Downloading PyYAML-6.0-cp37-cp37m-manylinux_2_5_x86_64.manylinux1_x86_64.manylinux_2_12_x86_64.manylinux2010_x86_64.whl (596 kB)\n",
      "Collecting gitpython>=2.1.0\n",
      "  Downloading GitPython-3.1.24-py3-none-any.whl (180 kB)\n",
      "Collecting packaging\n",
      "  Downloading packaging-21.3-py3-none-any.whl (40 kB)\n",
      "Collecting entrypoints\n",
      "  Using cached entrypoints-0.3-py2.py3-none-any.whl (11 kB)\n",
      "Collecting protobuf>=3.7.0\n",
      "  Downloading protobuf-3.19.1-cp37-cp37m-manylinux_2_17_x86_64.manylinux2014_x86_64.whl (1.1 MB)\n",
      "Collecting gunicorn\n",
      "  Downloading gunicorn-20.1.0-py3-none-any.whl (79 kB)\n",
      "Collecting requests>=2.17.3\n",
      "  Downloading requests-2.26.0-py2.py3-none-any.whl (62 kB)\n",
      "Collecting python-dateutil>=2.7.3\n",
      "  Downloading python_dateutil-2.8.2-py2.py3-none-any.whl (247 kB)\n",
      "Collecting python-editor>=0.3\n",
      "  Using cached python_editor-1.0.4-py3-none-any.whl (4.9 kB)\n",
      "Collecting Mako\n",
      "  Downloading Mako-1.1.6-py2.py3-none-any.whl (75 kB)\n",
      "Collecting tabulate>=0.7.7\n",
      "  Using cached tabulate-0.8.9-py3-none-any.whl (25 kB)\n",
      "Collecting six>=1.10.0\n",
      "  Using cached six-1.16.0-py2.py3-none-any.whl (11 kB)\n",
      "Collecting websocket-client>=0.32.0\n",
      "  Downloading websocket_client-1.2.1-py2.py3-none-any.whl (52 kB)\n",
      "Collecting gitdb<5,>=4.0.1\n",
      "  Downloading gitdb-4.0.9-py3-none-any.whl (63 kB)\n",
      "Collecting typing-extensions>=3.7.4.3\n",
      "  Downloading typing_extensions-4.0.1-py3-none-any.whl (22 kB)\n",
      "Collecting zipp>=0.5\n",
      "  Downloading zipp-3.6.0-py3-none-any.whl (5.3 kB)\n",
      "Collecting charset-normalizer~=2.0.0\n",
      "  Downloading charset_normalizer-2.0.8-py3-none-any.whl (39 kB)\n",
      "Collecting urllib3<1.27,>=1.21.1\n",
      "  Using cached urllib3-1.26.7-py2.py3-none-any.whl (138 kB)\n",
      "Collecting idna<4,>=2.5\n",
      "  Using cached idna-3.3-py3-none-any.whl (61 kB)\n",
      "Collecting certifi>=2017.4.17\n",
      "  Downloading certifi-2021.10.8-py2.py3-none-any.whl (149 kB)\n",
      "Collecting greenlet!=0.4.17\n",
      "  Downloading greenlet-1.1.2-cp37-cp37m-manylinux_2_17_x86_64.manylinux2014_x86_64.whl (150 kB)\n",
      "Collecting Werkzeug>=2.0\n",
      "  Downloading Werkzeug-2.0.2-py3-none-any.whl (288 kB)\n",
      "Collecting itsdangerous>=2.0\n",
      "  Downloading itsdangerous-2.0.1-py3-none-any.whl (18 kB)\n",
      "Collecting Jinja2>=3.0\n",
      "  Downloading Jinja2-3.0.3-py3-none-any.whl (133 kB)\n",
      "Requirement already satisfied: setuptools>=3.0 in /home/omer/anaconda3/envs/mlflow-7122f0cb71f385d249fbb61cc599afd8045ab238/lib/python3.7/site-packages (from gunicorn->mlflow>=1.0->-r /home/omer/Desktop/yunus_works/mlflow/mlflow/examples/sklearn_elasticnet_wine/condaenv.tznkmr9h.requirements.txt (line 2)) (59.4.0)\n",
      "Collecting pyparsing!=3.0.5,>=2.0.2\n",
      "  Downloading pyparsing-3.0.6-py3-none-any.whl (97 kB)\n",
      "Collecting prometheus-client\n",
      "  Downloading prometheus_client-0.12.0-py2.py3-none-any.whl (57 kB)\n",
      "Collecting smmap<6,>=3.0.1\n",
      "  Downloading smmap-5.0.0-py3-none-any.whl (24 kB)\n",
      "Collecting MarkupSafe>=2.0\n",
      "  Downloading MarkupSafe-2.0.1-cp37-cp37m-manylinux_2_5_x86_64.manylinux1_x86_64.manylinux_2_12_x86_64.manylinux2010_x86_64.whl (31 kB)\n",
      "Building wheels for collected packages: databricks-cli\n",
      "  Building wheel for databricks-cli (setup.py): started\n",
      "  Building wheel for databricks-cli (setup.py): finished with status 'done'\n",
      "  Created wheel for databricks-cli: filename=databricks_cli-0.16.2-py3-none-any.whl size=106811 sha256=cd20ed13f4f10aed781df7757fd3287c7aa5353e199be81e5c1dce337d91748d\n",
      "  Stored in directory: /home/omer/.cache/pip/wheels/f4/5c/ed/e1ce20a53095f63b27b4964abbad03e59cf3472822addf7d29\n",
      "Successfully built databricks-cli\n",
      "Installing collected packages: zipp, typing-extensions, MarkupSafe, importlib-metadata, Werkzeug, urllib3, smmap, six, Jinja2, itsdangerous, idna, greenlet, click, charset-normalizer, certifi, websocket-client, tabulate, sqlalchemy, requests, pytz, python-editor, python-dateutil, pyparsing, prometheus-client, numpy, Mako, gitdb, Flask, threadpoolctl, sqlparse, scipy, querystring-parser, pyyaml, protobuf, prometheus-flask-exporter, pandas, packaging, joblib, gunicorn, gitpython, entrypoints, docker, databricks-cli, cloudpickle, alembic, scikit-learn, mlflow\n",
      "Successfully installed Flask-2.0.2 Jinja2-3.0.3 Mako-1.1.6 MarkupSafe-2.0.1 Werkzeug-2.0.2 alembic-1.4.1 certifi-2021.10.8 charset-normalizer-2.0.8 click-8.0.3 cloudpickle-2.0.0 databricks-cli-0.16.2 docker-5.0.3 entrypoints-0.3 gitdb-4.0.9 gitpython-3.1.24 greenlet-1.1.2 gunicorn-20.1.0 idna-3.3 importlib-metadata-4.8.2 itsdangerous-2.0.1 joblib-1.1.0 mlflow-1.22.0 numpy-1.21.4 packaging-21.3 pandas-1.3.4 prometheus-client-0.12.0 prometheus-flask-exporter-0.18.6 protobuf-3.19.1 pyparsing-3.0.6 python-dateutil-2.8.2 python-editor-1.0.4 pytz-2021.3 pyyaml-6.0 querystring-parser-1.2.4 requests-2.26.0 scikit-learn-0.23.2 scipy-1.7.3 six-1.16.0 smmap-5.0.0 sqlalchemy-1.4.27 sqlparse-0.4.2 tabulate-0.8.9 threadpoolctl-3.0.0 typing-extensions-4.0.1 urllib3-1.26.7 websocket-client-1.2.1 zipp-3.6.0\n",
      "\n"
     ]
    },
    {
     "name": "stdout",
     "output_type": "stream",
     "text": [
      "done\n",
      "#\n",
      "# To activate this environment, use\n",
      "#\n",
      "#     $ conda activate mlflow-7122f0cb71f385d249fbb61cc599afd8045ab238\n",
      "#\n",
      "# To deactivate an active environment, use\n",
      "#\n",
      "#     $ conda deactivate\n",
      "\n",
      "2021/12/02 12:33:38 INFO mlflow.projects.utils: === Created directory /tmp/tmpqg55zshm for downloading remote URIs passed to arguments of type 'path' ===\n",
      "2021/12/02 12:33:38 INFO mlflow.projects.backend.local: === Running command 'source activate mlflow-7122f0cb71f385d249fbb61cc599afd8045ab238 1>&2 && python train.py 0.5 0.1' in run with ID '4487627e8fad401597caa9cf8abd1ff2' === \n",
      "Elasticnet model (alpha=0.500000, l1_ratio=0.100000):\n",
      "  RMSE: 0.7460550348172179\n",
      "  MAE: 0.576381895873763\n",
      "  R2: 0.21136606570632266\n",
      "2021/12/02 12:33:42 INFO mlflow.projects: === Run (ID '4487627e8fad401597caa9cf8abd1ff2') succeeded ===\n"
     ]
    }
   ],
   "source": [
    "!mlflow run mlflow/examples/sklearn_elasticnet_wine -P alpha=0.5"
   ]
  },
  {
   "cell_type": "code",
   "execution_count": 18,
   "id": "formal-perspective",
   "metadata": {},
   "outputs": [
    {
     "name": "stdout",
     "output_type": "stream",
     "text": [
      "2021/12/02 12:33:43 INFO mlflow.projects.utils: === Fetching project from https://github.com/mlflow/mlflow-example.git into /tmp/tmpeyuk_5qs ===\n",
      "2021/12/02 12:33:44 INFO mlflow.projects.utils: === Created directory /tmp/tmp_rcvn87k for downloading remote URIs passed to arguments of type 'path' ===\n",
      "2021/12/02 12:33:44 INFO mlflow.projects.backend.local: === Running command 'python train.py 5.0 0.1' in run with ID '57e53b3f71514eb695874c1074ed96f8' === \n",
      "Traceback (most recent call last):\n",
      "  File \"train.py\", line 9, in <module>\n",
      "    import pandas as pd\n",
      "ImportError: No module named pandas\n",
      "2021/12/02 12:33:44 ERROR mlflow.cli: === Run (ID '57e53b3f71514eb695874c1074ed96f8') failed ===\n"
     ]
    }
   ],
   "source": [
    "!mlflow run --no-conda https://github.com/mlflow/mlflow-example.git -P alpha=5.0"
   ]
  },
  {
   "cell_type": "markdown",
   "id": "serial-declaration",
   "metadata": {},
   "source": [
    "Saving and Serving Models"
   ]
  },
  {
   "cell_type": "code",
   "execution_count": 19,
   "id": "awful-liver",
   "metadata": {},
   "outputs": [
    {
     "name": "stdout",
     "output_type": "stream",
     "text": [
      "Score: 0.6666666666666666\r\n",
      "Model saved in run c29f44ffd8094a24b1155ad4cc4ce9b8\r\n"
     ]
    }
   ],
   "source": [
    "!python3 mlflow/examples/sklearn_logistic_regression/train.py"
   ]
  },
  {
   "cell_type": "code",
   "execution_count": 20,
   "id": "southeast-spotlight",
   "metadata": {},
   "outputs": [
    {
     "name": "stdout",
     "output_type": "stream",
     "text": [
      "[2021-12-02 12:34:28 +0300] [26330] [INFO] Starting gunicorn 19.10.0\n",
      "[2021-12-02 12:34:28 +0300] [26330] [INFO] Listening at: http://127.0.0.1:5000 (26330)\n",
      "[2021-12-02 12:34:28 +0300] [26330] [INFO] Using worker: sync\n",
      "[2021-12-02 12:34:28 +0300] [26333] [INFO] Booting worker with pid: 26333\n",
      "^C\n",
      "\n",
      "Aborted!\n",
      "[2021-12-02 12:39:10 +0300] [26330] [INFO] Handling signal: int\n",
      "[2021-12-02 12:39:10 +0300] [26333] [INFO] Worker exiting (pid: 26333)\n"
     ]
    }
   ],
   "source": [
    "!mlflow ui"
   ]
  },
  {
   "cell_type": "code",
   "execution_count": 42,
   "id": "affiliated-ivory",
   "metadata": {},
   "outputs": [
    {
     "name": "stdout",
     "output_type": "stream",
     "text": [
      "2021/12/02 12:51:42 INFO mlflow.models.cli: Selected backend for flavor 'python_function'\n",
      "2021/12/02 12:51:42 INFO mlflow.pyfunc.backend: === Running command 'gunicorn --timeout=60 -b 127.0.0.1:5000 -w 1 ${GUNICORN_CMD_ARGS} -- mlflow.pyfunc.scoring_server.wsgi:app'\n",
      "[2021-12-02 12:51:43 +0300] [28338] [INFO] Starting gunicorn 19.10.0\n",
      "[2021-12-02 12:51:43 +0300] [28338] [INFO] Listening at: http://127.0.0.1:5000 (28338)\n",
      "[2021-12-02 12:51:43 +0300] [28338] [INFO] Using worker: sync\n",
      "[2021-12-02 12:51:43 +0300] [28341] [INFO] Booting worker with pid: 28341\n",
      "[2021-12-02 12:52:58 +0300] [28338] [CRITICAL] WORKER TIMEOUT (pid:28341)\n",
      "[2021-12-02 12:52:58 +0300] [28341] [INFO] Worker exiting (pid: 28341)\n",
      "[2021-12-02 12:52:58 +0300] [28485] [INFO] Booting worker with pid: 28485\n",
      "^C\n",
      "\n",
      "Aborted!\n",
      "[2021-12-02 12:53:41 +0300] [28338] [INFO] Handling signal: int\n",
      "[2021-12-02 12:53:41 +0300] [28485] [INFO] Worker exiting (pid: 28485)\n"
     ]
    }
   ],
   "source": [
    "!mlflow models serve --no-conda -m runs:/c29f44ffd8094a24b1155ad4cc4ce9b8/model"
   ]
  },
  {
   "cell_type": "code",
   "execution_count": 44,
   "id": "covered-accused",
   "metadata": {},
   "outputs": [
    {
     "name": "stdout",
     "output_type": "stream",
     "text": [
      "[1, 0]"
     ]
    }
   ],
   "source": [
    "# I ran the command above on another terminal and after that \n",
    "# started this command and gives 1,0 result it worked.\n",
    "\n",
    "!curl -d '{\"columns\":[\"x\"], \"data\":[[1], [-1]]}' -H 'Content-Type: application/json; format=pandas-split' -X POST localhost:5000/invocations"
   ]
  },
  {
   "cell_type": "code",
   "execution_count": null,
   "id": "particular-turning",
   "metadata": {},
   "outputs": [],
   "source": []
  }
 ],
 "metadata": {
  "kernelspec": {
   "display_name": "Python 3",
   "language": "python",
   "name": "python3"
  },
  "language_info": {
   "codemirror_mode": {
    "name": "ipython",
    "version": 3
   },
   "file_extension": ".py",
   "mimetype": "text/x-python",
   "name": "python",
   "nbconvert_exporter": "python",
   "pygments_lexer": "ipython3",
   "version": "3.6.9"
  }
 },
 "nbformat": 4,
 "nbformat_minor": 5
}
